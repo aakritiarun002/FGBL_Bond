{
 "cells": [
  {
   "cell_type": "code",
   "execution_count": 37,
   "id": "49107b5a-de5b-4ce8-9e6d-3098e8571c0f",
   "metadata": {},
   "outputs": [],
   "source": [
    "#importing required library\n",
    "import pandas as pd\n",
    "import numpy as np\n",
    "import matplotlib.pyplot as plt\n",
    "import plotly.graph_objects as go\n",
    "from plotly.subplots import make_subplots"
   ]
  },
  {
   "cell_type": "code",
   "execution_count": 20,
   "id": "ed01b4aa-d51b-4488-a62f-ba9f309b6c1a",
   "metadata": {},
   "outputs": [
    {
     "name": "stdout",
     "output_type": "stream",
     "text": [
      "         Date   Price    Open    High     Low Change %      Vol.\n",
      "0  2018-01-02  161.28  161.78  161.78  161.18   -0.25%  485600.0\n",
      "1  2018-01-03  161.58  161.26  161.82  161.20    0.19%  604240.0\n",
      "2  2018-01-04  161.59  161.44  161.75  161.26    0.01%  640610.0\n",
      "3  2018-01-05  161.59  161.70  161.87  161.50    0.00%  467090.0\n",
      "4  2018-01-08  161.80  161.64  162.04  161.39    0.13%  454690.0\n"
     ]
    },
    {
     "data": {
      "text/html": [
       "<div>\n",
       "<style scoped>\n",
       "    .dataframe tbody tr th:only-of-type {\n",
       "        vertical-align: middle;\n",
       "    }\n",
       "\n",
       "    .dataframe tbody tr th {\n",
       "        vertical-align: top;\n",
       "    }\n",
       "\n",
       "    .dataframe thead th {\n",
       "        text-align: right;\n",
       "    }\n",
       "</style>\n",
       "<table border=\"1\" class=\"dataframe\">\n",
       "  <thead>\n",
       "    <tr style=\"text-align: right;\">\n",
       "      <th></th>\n",
       "      <th>Date</th>\n",
       "      <th>Price</th>\n",
       "      <th>Open</th>\n",
       "      <th>High</th>\n",
       "      <th>Low</th>\n",
       "      <th>Change %</th>\n",
       "      <th>Vol.</th>\n",
       "    </tr>\n",
       "  </thead>\n",
       "  <tbody>\n",
       "    <tr>\n",
       "      <th>1134</th>\n",
       "      <td>2022-06-09</td>\n",
       "      <td>147.80</td>\n",
       "      <td>148.69</td>\n",
       "      <td>149.43</td>\n",
       "      <td>147.32</td>\n",
       "      <td>-0.77%</td>\n",
       "      <td>1040000.0</td>\n",
       "    </tr>\n",
       "    <tr>\n",
       "      <th>1135</th>\n",
       "      <td>2022-06-10</td>\n",
       "      <td>146.98</td>\n",
       "      <td>147.74</td>\n",
       "      <td>148.51</td>\n",
       "      <td>146.61</td>\n",
       "      <td>-0.55%</td>\n",
       "      <td>956290.0</td>\n",
       "    </tr>\n",
       "    <tr>\n",
       "      <th>1136</th>\n",
       "      <td>2022-06-13</td>\n",
       "      <td>145.18</td>\n",
       "      <td>146.71</td>\n",
       "      <td>147.19</td>\n",
       "      <td>144.19</td>\n",
       "      <td>-1.22%</td>\n",
       "      <td>1100000.0</td>\n",
       "    </tr>\n",
       "    <tr>\n",
       "      <th>1137</th>\n",
       "      <td>2022-06-14</td>\n",
       "      <td>143.59</td>\n",
       "      <td>144.65</td>\n",
       "      <td>145.58</td>\n",
       "      <td>142.29</td>\n",
       "      <td>-1.10%</td>\n",
       "      <td>1260000.0</td>\n",
       "    </tr>\n",
       "    <tr>\n",
       "      <th>1138</th>\n",
       "      <td>2022-06-15</td>\n",
       "      <td>144.61</td>\n",
       "      <td>142.73</td>\n",
       "      <td>145.51</td>\n",
       "      <td>142.25</td>\n",
       "      <td>0.71%</td>\n",
       "      <td>1290000.0</td>\n",
       "    </tr>\n",
       "  </tbody>\n",
       "</table>\n",
       "</div>"
      ],
      "text/plain": [
       "            Date   Price    Open    High     Low Change %       Vol.\n",
       "1134  2022-06-09  147.80  148.69  149.43  147.32   -0.77%  1040000.0\n",
       "1135  2022-06-10  146.98  147.74  148.51  146.61   -0.55%   956290.0\n",
       "1136  2022-06-13  145.18  146.71  147.19  144.19   -1.22%  1100000.0\n",
       "1137  2022-06-14  143.59  144.65  145.58  142.29   -1.10%  1260000.0\n",
       "1138  2022-06-15  144.61  142.73  145.51  142.25    0.71%  1290000.0"
      ]
     },
     "execution_count": 20,
     "metadata": {},
     "output_type": "execute_result"
    }
   ],
   "source": [
    "#loading and reading dataset \n",
    "\n",
    "df = pd.read_csv(\"FGBL.csv\")\n",
    "print(df.head()) # original dataset view\n",
    "df.tail()\n"
   ]
  },
  {
   "cell_type": "code",
   "execution_count": 21,
   "id": "f8c8b640-d3a3-4765-8367-7f1b0bc4f33a",
   "metadata": {},
   "outputs": [
    {
     "data": {
      "text/html": [
       "<div>\n",
       "<style scoped>\n",
       "    .dataframe tbody tr th:only-of-type {\n",
       "        vertical-align: middle;\n",
       "    }\n",
       "\n",
       "    .dataframe tbody tr th {\n",
       "        vertical-align: top;\n",
       "    }\n",
       "\n",
       "    .dataframe thead th {\n",
       "        text-align: right;\n",
       "    }\n",
       "</style>\n",
       "<table border=\"1\" class=\"dataframe\">\n",
       "  <thead>\n",
       "    <tr style=\"text-align: right;\">\n",
       "      <th></th>\n",
       "      <th>Date</th>\n",
       "      <th>Open</th>\n",
       "      <th>High</th>\n",
       "      <th>Low</th>\n",
       "      <th>Close</th>\n",
       "      <th>Vol</th>\n",
       "      <th>Change %</th>\n",
       "    </tr>\n",
       "  </thead>\n",
       "  <tbody>\n",
       "    <tr>\n",
       "      <th>0</th>\n",
       "      <td>2018-01-02</td>\n",
       "      <td>161.78</td>\n",
       "      <td>161.78</td>\n",
       "      <td>161.18</td>\n",
       "      <td>161.28</td>\n",
       "      <td>485600.0</td>\n",
       "      <td>-0.25%</td>\n",
       "    </tr>\n",
       "    <tr>\n",
       "      <th>1</th>\n",
       "      <td>2018-01-03</td>\n",
       "      <td>161.26</td>\n",
       "      <td>161.82</td>\n",
       "      <td>161.20</td>\n",
       "      <td>161.58</td>\n",
       "      <td>604240.0</td>\n",
       "      <td>0.19%</td>\n",
       "    </tr>\n",
       "    <tr>\n",
       "      <th>2</th>\n",
       "      <td>2018-01-04</td>\n",
       "      <td>161.44</td>\n",
       "      <td>161.75</td>\n",
       "      <td>161.26</td>\n",
       "      <td>161.59</td>\n",
       "      <td>640610.0</td>\n",
       "      <td>0.01%</td>\n",
       "    </tr>\n",
       "    <tr>\n",
       "      <th>3</th>\n",
       "      <td>2018-01-05</td>\n",
       "      <td>161.70</td>\n",
       "      <td>161.87</td>\n",
       "      <td>161.50</td>\n",
       "      <td>161.59</td>\n",
       "      <td>467090.0</td>\n",
       "      <td>0.00%</td>\n",
       "    </tr>\n",
       "    <tr>\n",
       "      <th>4</th>\n",
       "      <td>2018-01-08</td>\n",
       "      <td>161.64</td>\n",
       "      <td>162.04</td>\n",
       "      <td>161.39</td>\n",
       "      <td>161.80</td>\n",
       "      <td>454690.0</td>\n",
       "      <td>0.13%</td>\n",
       "    </tr>\n",
       "  </tbody>\n",
       "</table>\n",
       "</div>"
      ],
      "text/plain": [
       "         Date    Open    High     Low   Close       Vol Change %\n",
       "0  2018-01-02  161.78  161.78  161.18  161.28  485600.0   -0.25%\n",
       "1  2018-01-03  161.26  161.82  161.20  161.58  604240.0    0.19%\n",
       "2  2018-01-04  161.44  161.75  161.26  161.59  640610.0    0.01%\n",
       "3  2018-01-05  161.70  161.87  161.50  161.59  467090.0    0.00%\n",
       "4  2018-01-08  161.64  162.04  161.39  161.80  454690.0    0.13%"
      ]
     },
     "execution_count": 21,
     "metadata": {},
     "output_type": "execute_result"
    }
   ],
   "source": [
    "# moving the \"price\" column after \"Low\" column, but before \"Vol,\" \"Change%\" columns.\n",
    "price_column = df.pop(\"Price\") #for shifting Price from 1st to 4th position\n",
    "df.insert(4, 'Price', price_column) #inserting the Price column after \"Low\" column and before \"Vol\" and \"Change%\" and column \n",
    "price_column = df.pop(\"Vol.\") #for shifting Price from 1st to 4th position\n",
    "df.insert(5, 'Vol.', price_column)\n",
    "\n",
    "df = df.rename(columns= {\"Price\":\"Close\"}) # changing the \"Price\" column name to \"Close\"\n",
    "df = df.rename(columns= {\"Vol.\":\"Vol\"})\n",
    "\n",
    "\n",
    "df.head()"
   ]
  },
  {
   "cell_type": "markdown",
   "id": "fd010382-909a-4e68-b2ed-57d2e0010207",
   "metadata": {},
   "source": [
    "Formula\n",
    "\n",
    "$TR = \\max[H − L, |H − C_P|, |L − C_P|]$\n",
    "\n",
    "$ATR = \\frac{1}{n}\\sum_{i=1}^{n} TR_i$\n",
    "\n",
    "$TR_i$: A particular True Range\n",
    "$n$: The time period employed\n",
    "$H$: Current High\n",
    "$L$: Current Low\n",
    "$C_P$: Previous Close"
   ]
  },
  {
   "cell_type": "code",
   "execution_count": 22,
   "id": "c02c9ed0-9a5a-4c2d-b056-026c9049136b",
   "metadata": {},
   "outputs": [
    {
     "data": {
      "text/plain": [
       "0       0.60\n",
       "1       0.62\n",
       "2       0.49\n",
       "3       0.37\n",
       "4       0.65\n",
       "        ... \n",
       "1134    2.11\n",
       "1135    1.90\n",
       "1136    3.00\n",
       "1137    3.29\n",
       "1138    3.26\n",
       "Length: 1139, dtype: float64"
      ]
     },
     "execution_count": 22,
     "metadata": {},
     "output_type": "execute_result"
    }
   ],
   "source": [
    "\n",
    "# Finding the true value\n",
    "\n",
    "high_low = df[\"High\"] - df[\"Low\"]\n",
    "high_cp = np.abs(df[\"High\"] - df[\"Close\"].shift()) # finding the abs of \"High - Previous Close Price\"\n",
    "low_cp = np.abs(df[\"Low\"] - df[\"Close\"].shift() ) # finding the abs of \"Low minus Previous Close\"\n",
    "\n",
    "TR_df = pd.concat([high_low, high_cp, low_cp], axis=1) # making a new dataframe so that we can imply the np.max()\n",
    "True_Range = np.max(TR_df, axis=1)\n",
    "True_Range"
   ]
  },
  {
   "cell_type": "code",
   "execution_count": 23,
   "id": "3df36455-a514-4b35-852e-2977b08c1a25",
   "metadata": {},
   "outputs": [
    {
     "data": {
      "text/html": [
       "<div>\n",
       "<style scoped>\n",
       "    .dataframe tbody tr th:only-of-type {\n",
       "        vertical-align: middle;\n",
       "    }\n",
       "\n",
       "    .dataframe tbody tr th {\n",
       "        vertical-align: top;\n",
       "    }\n",
       "\n",
       "    .dataframe thead th {\n",
       "        text-align: right;\n",
       "    }\n",
       "</style>\n",
       "<table border=\"1\" class=\"dataframe\">\n",
       "  <thead>\n",
       "    <tr style=\"text-align: right;\">\n",
       "      <th></th>\n",
       "      <th>0</th>\n",
       "    </tr>\n",
       "  </thead>\n",
       "  <tbody>\n",
       "    <tr>\n",
       "      <th>1134</th>\n",
       "      <td>1.206429</td>\n",
       "    </tr>\n",
       "    <tr>\n",
       "      <th>1135</th>\n",
       "      <td>1.252143</td>\n",
       "    </tr>\n",
       "    <tr>\n",
       "      <th>1136</th>\n",
       "      <td>1.380000</td>\n",
       "    </tr>\n",
       "    <tr>\n",
       "      <th>1137</th>\n",
       "      <td>1.547143</td>\n",
       "    </tr>\n",
       "    <tr>\n",
       "      <th>1138</th>\n",
       "      <td>1.669286</td>\n",
       "    </tr>\n",
       "  </tbody>\n",
       "</table>\n",
       "</div>"
      ],
      "text/plain": [
       "             0\n",
       "1134  1.206429\n",
       "1135  1.252143\n",
       "1136  1.380000\n",
       "1137  1.547143\n",
       "1138  1.669286"
      ]
     },
     "execution_count": 23,
     "metadata": {},
     "output_type": "execute_result"
    }
   ],
   "source": [
    "ATR = True_Range.rolling(14).mean().to_frame() #Calculating Avg True Range\n",
    "ATR.tail()"
   ]
  },
  {
   "cell_type": "code",
   "execution_count": 24,
   "id": "d053f33e-ef8c-4662-ab86-8e496bd69da6",
   "metadata": {},
   "outputs": [
    {
     "data": {
      "text/plain": [
       "Text(0, 0.5, 'Close')"
      ]
     },
     "execution_count": 24,
     "metadata": {},
     "output_type": "execute_result"
    },
    {
     "data": {
      "image/png": "[encoded data removed]",
      "text/plain": [
       "<Figure size 432x288 with 2 Axes>"
      ]
     },
     "metadata": {
      "needs_background": "light"
     },
     "output_type": "display_data"
    }
   ],
   "source": [
    "fig, ax = plt.subplots()\n",
    "ATR.plot(ax=ax)\n",
    "ax2 = df['Close'].plot(ax=ax, secondary_y=True, alpha=.3)\n",
    "ax.set_ylabel(\"ATR\")\n",
    "ax2.set_ylabel(\"Close\")\n"
   ]
  },
  {
   "cell_type": "code",
   "execution_count": 25,
   "id": "3a190c41-bbf7-4820-b79c-ad6bb3bdf4ee",
   "metadata": {},
   "outputs": [
    {
     "data": {
      "text/html": [
       "<div>\n",
       "<style scoped>\n",
       "    .dataframe tbody tr th:only-of-type {\n",
       "        vertical-align: middle;\n",
       "    }\n",
       "\n",
       "    .dataframe tbody tr th {\n",
       "        vertical-align: top;\n",
       "    }\n",
       "\n",
       "    .dataframe thead th {\n",
       "        text-align: right;\n",
       "    }\n",
       "</style>\n",
       "<table border=\"1\" class=\"dataframe\">\n",
       "  <thead>\n",
       "    <tr style=\"text-align: right;\">\n",
       "      <th></th>\n",
       "      <th>Date</th>\n",
       "      <th>Open</th>\n",
       "      <th>High</th>\n",
       "      <th>Low</th>\n",
       "      <th>Close</th>\n",
       "      <th>Vol</th>\n",
       "      <th>Change %</th>\n",
       "    </tr>\n",
       "  </thead>\n",
       "  <tbody>\n",
       "    <tr>\n",
       "      <th>0</th>\n",
       "      <td>2018-01-02</td>\n",
       "      <td>161.78</td>\n",
       "      <td>161.78</td>\n",
       "      <td>161.18</td>\n",
       "      <td>161.28</td>\n",
       "      <td>485600.0</td>\n",
       "      <td>-0.25%</td>\n",
       "    </tr>\n",
       "    <tr>\n",
       "      <th>1</th>\n",
       "      <td>2018-01-03</td>\n",
       "      <td>161.26</td>\n",
       "      <td>161.82</td>\n",
       "      <td>161.20</td>\n",
       "      <td>161.58</td>\n",
       "      <td>604240.0</td>\n",
       "      <td>0.19%</td>\n",
       "    </tr>\n",
       "    <tr>\n",
       "      <th>2</th>\n",
       "      <td>2018-01-04</td>\n",
       "      <td>161.44</td>\n",
       "      <td>161.75</td>\n",
       "      <td>161.26</td>\n",
       "      <td>161.59</td>\n",
       "      <td>640610.0</td>\n",
       "      <td>0.01%</td>\n",
       "    </tr>\n",
       "    <tr>\n",
       "      <th>3</th>\n",
       "      <td>2018-01-05</td>\n",
       "      <td>161.70</td>\n",
       "      <td>161.87</td>\n",
       "      <td>161.50</td>\n",
       "      <td>161.59</td>\n",
       "      <td>467090.0</td>\n",
       "      <td>0.00%</td>\n",
       "    </tr>\n",
       "    <tr>\n",
       "      <th>4</th>\n",
       "      <td>2018-01-08</td>\n",
       "      <td>161.64</td>\n",
       "      <td>162.04</td>\n",
       "      <td>161.39</td>\n",
       "      <td>161.80</td>\n",
       "      <td>454690.0</td>\n",
       "      <td>0.13%</td>\n",
       "    </tr>\n",
       "  </tbody>\n",
       "</table>\n",
       "</div>"
      ],
      "text/plain": [
       "         Date    Open    High     Low   Close       Vol Change %\n",
       "0  2018-01-02  161.78  161.78  161.18  161.28  485600.0   -0.25%\n",
       "1  2018-01-03  161.26  161.82  161.20  161.58  604240.0    0.19%\n",
       "2  2018-01-04  161.44  161.75  161.26  161.59  640610.0    0.01%\n",
       "3  2018-01-05  161.70  161.87  161.50  161.59  467090.0    0.00%\n",
       "4  2018-01-08  161.64  162.04  161.39  161.80  454690.0    0.13%"
      ]
     },
     "execution_count": 25,
     "metadata": {},
     "output_type": "execute_result"
    }
   ],
   "source": [
    "df.head()"
   ]
  },
  {
   "cell_type": "markdown",
   "id": "310f3e85-845c-4f6a-a9b7-b22eb69a7647",
   "metadata": {},
   "source": [
    "Formula :\n",
    "\n",
    " $ STD DEV = $$e^x=\\sum_{i=0}^\\infty \\frac{1}{i!}x^i$$"
   ]
  },
  {
   "cell_type": "code",
   "execution_count": 26,
   "id": "7ec765a2-491c-4995-bc98-af80ebd8b719",
   "metadata": {},
   "outputs": [
    {
     "data": {
      "text/plain": [
       "0       -0.25%\n",
       "1        0.19%\n",
       "2        0.01%\n",
       "3        0.00%\n",
       "4        0.13%\n",
       "         ...  \n",
       "1134    -0.77%\n",
       "1135    -0.55%\n",
       "1136    -1.22%\n",
       "1137    -1.10%\n",
       "1138     0.71%\n",
       "Name: Change %, Length: 1139, dtype: object"
      ]
     },
     "execution_count": 26,
     "metadata": {},
     "output_type": "execute_result"
    }
   ],
   "source": [
    "df['Change %']"
   ]
  },
  {
   "cell_type": "code",
   "execution_count": 27,
   "id": "ad5f05e7-0e18-4ec6-b21c-8cadd87d00fc",
   "metadata": {},
   "outputs": [],
   "source": [
    "df['Change %'] = df['Change %'].apply(lambda x: np.nan if x in ['-'] else x[:-1]).astype(float)/100"
   ]
  },
  {
   "cell_type": "code",
   "execution_count": 28,
   "id": "27154ccb-ecac-4820-aac2-66953abfdf61",
   "metadata": {},
   "outputs": [
    {
     "data": {
      "text/plain": [
       "0      -0.0025\n",
       "1       0.0019\n",
       "2       0.0001\n",
       "3       0.0000\n",
       "4       0.0013\n",
       "         ...  \n",
       "1134   -0.0077\n",
       "1135   -0.0055\n",
       "1136   -0.0122\n",
       "1137   -0.0110\n",
       "1138    0.0071\n",
       "Name: Change %, Length: 1139, dtype: float64"
      ]
     },
     "execution_count": 28,
     "metadata": {},
     "output_type": "execute_result"
    }
   ],
   "source": [
    "df['Change %']"
   ]
  },
  {
   "cell_type": "code",
   "execution_count": 29,
   "id": "ca67620a-dc63-4d58-925c-153d823a950c",
   "metadata": {},
   "outputs": [
    {
     "data": {
      "text/html": [
       "<div>\n",
       "<style scoped>\n",
       "    .dataframe tbody tr th:only-of-type {\n",
       "        vertical-align: middle;\n",
       "    }\n",
       "\n",
       "    .dataframe tbody tr th {\n",
       "        vertical-align: top;\n",
       "    }\n",
       "\n",
       "    .dataframe thead th {\n",
       "        text-align: right;\n",
       "    }\n",
       "</style>\n",
       "<table border=\"1\" class=\"dataframe\">\n",
       "  <thead>\n",
       "    <tr style=\"text-align: right;\">\n",
       "      <th></th>\n",
       "      <th>Date</th>\n",
       "      <th>Open</th>\n",
       "      <th>High</th>\n",
       "      <th>Low</th>\n",
       "      <th>Close</th>\n",
       "      <th>Vol</th>\n",
       "      <th>Change %</th>\n",
       "    </tr>\n",
       "  </thead>\n",
       "  <tbody>\n",
       "    <tr>\n",
       "      <th>0</th>\n",
       "      <td>2018-01-02</td>\n",
       "      <td>161.78</td>\n",
       "      <td>161.78</td>\n",
       "      <td>161.18</td>\n",
       "      <td>161.28</td>\n",
       "      <td>485600.0</td>\n",
       "      <td>-0.0025</td>\n",
       "    </tr>\n",
       "    <tr>\n",
       "      <th>1</th>\n",
       "      <td>2018-01-03</td>\n",
       "      <td>161.26</td>\n",
       "      <td>161.82</td>\n",
       "      <td>161.20</td>\n",
       "      <td>161.58</td>\n",
       "      <td>604240.0</td>\n",
       "      <td>0.0019</td>\n",
       "    </tr>\n",
       "    <tr>\n",
       "      <th>2</th>\n",
       "      <td>2018-01-04</td>\n",
       "      <td>161.44</td>\n",
       "      <td>161.75</td>\n",
       "      <td>161.26</td>\n",
       "      <td>161.59</td>\n",
       "      <td>640610.0</td>\n",
       "      <td>0.0001</td>\n",
       "    </tr>\n",
       "    <tr>\n",
       "      <th>3</th>\n",
       "      <td>2018-01-05</td>\n",
       "      <td>161.70</td>\n",
       "      <td>161.87</td>\n",
       "      <td>161.50</td>\n",
       "      <td>161.59</td>\n",
       "      <td>467090.0</td>\n",
       "      <td>0.0000</td>\n",
       "    </tr>\n",
       "    <tr>\n",
       "      <th>4</th>\n",
       "      <td>2018-01-08</td>\n",
       "      <td>161.64</td>\n",
       "      <td>162.04</td>\n",
       "      <td>161.39</td>\n",
       "      <td>161.80</td>\n",
       "      <td>454690.0</td>\n",
       "      <td>0.0013</td>\n",
       "    </tr>\n",
       "  </tbody>\n",
       "</table>\n",
       "</div>"
      ],
      "text/plain": [
       "         Date    Open    High     Low   Close       Vol  Change %\n",
       "0  2018-01-02  161.78  161.78  161.18  161.28  485600.0   -0.0025\n",
       "1  2018-01-03  161.26  161.82  161.20  161.58  604240.0    0.0019\n",
       "2  2018-01-04  161.44  161.75  161.26  161.59  640610.0    0.0001\n",
       "3  2018-01-05  161.70  161.87  161.50  161.59  467090.0    0.0000\n",
       "4  2018-01-08  161.64  162.04  161.39  161.80  454690.0    0.0013"
      ]
     },
     "execution_count": 29,
     "metadata": {},
     "output_type": "execute_result"
    }
   ],
   "source": [
    "df.head()"
   ]
  },
  {
   "cell_type": "code",
   "execution_count": 30,
   "id": "359c0078-ac86-476d-9010-c918404fd8ef",
   "metadata": {},
   "outputs": [],
   "source": [
    "#daily volatility\n",
    "volatility = df['Change %'].std()*252**.5\n",
    "volatility\n",
    "str_vol = str(round(volatility,4)*100) # as we can't concat float to str, needs be converted into str"
   ]
  },
  {
   "cell_type": "code",
   "execution_count": 31,
   "id": "4ae00b19-454d-41d1-bc10-e4e9ac109281",
   "metadata": {},
   "outputs": [
    {
     "data": {
      "text/plain": [
       "Text(0.5, 1.0, 'Volatility 5.71')"
      ]
     },
     "execution_count": 31,
     "metadata": {},
     "output_type": "execute_result"
    },
    {
     "data": {
      "image/png": "[encoded data removed]",
      "text/plain": [
       "<Figure size 432x288 with 1 Axes>"
      ]
     },
     "metadata": {
      "needs_background": "light"
     },
     "output_type": "display_data"
    }
   ],
   "source": [
    "fig,ax = plt.subplots()\n",
    "df[\"Change %\"].hist(ax=ax, bins=50)\n",
    "ax.set_xlabel(\"Change %\")\n",
    "ax.set_ylabel(\"Frequency of log return\")\n",
    "ax.set_title(\"Volatility \"+ str_vol) "
   ]
  },
  {
   "cell_type": "code",
   "execution_count": 32,
   "id": "596e3193-832a-44e1-9bd5-a2b2a7a88859",
   "metadata": {},
   "outputs": [
    {
     "name": "stdin",
     "output_type": "stream",
     "text": [
      "Enter the Nth term value Moving Standard Deviation for Close 3\n"
     ]
    },
    {
     "data": {
      "text/plain": [
       "1134    0.879451\n",
       "1135    0.984344\n",
       "1136    1.340199\n",
       "1137    1.696084\n",
       "1138    0.805543\n",
       "Name: M_std_dev_close, dtype: float64"
      ]
     },
     "execution_count": 32,
     "metadata": {},
     "output_type": "execute_result"
    }
   ],
   "source": [
    "N = int(input(\"Enter the Nth term value Moving Standard Deviation for Close\"))\n",
    "df[\"M_std_dev_close\"] = df[\"Close\"].rolling(N).std()  #Moving Standard Deviation for Close\n",
    "df[\"M_std_dev_close\"].tail() #This shows the last N'th term"
   ]
  },
  {
   "cell_type": "code",
   "execution_count": 33,
   "id": "e7dddec6-ed26-4ec1-bd5e-b439ae68baa6",
   "metadata": {},
   "outputs": [
    {
     "name": "stdin",
     "output_type": "stream",
     "text": [
      "Enter the Nth term value Moving Standard Deviation for ATR 4\n"
     ]
    },
    {
     "data": {
      "text/plain": [
       "1134    0.040977\n",
       "1135    0.050001\n",
       "1136    0.104303\n",
       "1137    0.152647\n",
       "1138    0.183467\n",
       "Name: M_std_Dev_ATR, dtype: float64"
      ]
     },
     "execution_count": 33,
     "metadata": {},
     "output_type": "execute_result"
    }
   ],
   "source": [
    "N = int(input(\"Enter the Nth term value Moving Standard Deviation for ATR\"))\n",
    "df[\"M_std_Dev_ATR\"] = ATR.rolling(N).std() #Moving Standard Deviation for ATR\n",
    "df[\"M_std_Dev_ATR\"].tail() # This shows the last N'th term"
   ]
  },
  {
   "cell_type": "code",
   "execution_count": 34,
   "id": "d0073c5e-3709-4ecb-992f-1fe5adb4964a",
   "metadata": {},
   "outputs": [
    {
     "data": {
      "text/html": [
       "<div>\n",
       "<style scoped>\n",
       "    .dataframe tbody tr th:only-of-type {\n",
       "        vertical-align: middle;\n",
       "    }\n",
       "\n",
       "    .dataframe tbody tr th {\n",
       "        vertical-align: top;\n",
       "    }\n",
       "\n",
       "    .dataframe thead th {\n",
       "        text-align: right;\n",
       "    }\n",
       "</style>\n",
       "<table border=\"1\" class=\"dataframe\">\n",
       "  <thead>\n",
       "    <tr style=\"text-align: right;\">\n",
       "      <th></th>\n",
       "      <th>Date</th>\n",
       "      <th>Open</th>\n",
       "      <th>High</th>\n",
       "      <th>Low</th>\n",
       "      <th>Close</th>\n",
       "      <th>Vol</th>\n",
       "      <th>Change %</th>\n",
       "      <th>M_std_dev_close</th>\n",
       "      <th>M_std_Dev_ATR</th>\n",
       "    </tr>\n",
       "  </thead>\n",
       "  <tbody>\n",
       "    <tr>\n",
       "      <th>1134</th>\n",
       "      <td>2022-06-09</td>\n",
       "      <td>148.69</td>\n",
       "      <td>149.43</td>\n",
       "      <td>147.32</td>\n",
       "      <td>147.80</td>\n",
       "      <td>1040000.0</td>\n",
       "      <td>-0.0077</td>\n",
       "      <td>0.879451</td>\n",
       "      <td>0.040977</td>\n",
       "    </tr>\n",
       "    <tr>\n",
       "      <th>1135</th>\n",
       "      <td>2022-06-10</td>\n",
       "      <td>147.74</td>\n",
       "      <td>148.51</td>\n",
       "      <td>146.61</td>\n",
       "      <td>146.98</td>\n",
       "      <td>956290.0</td>\n",
       "      <td>-0.0055</td>\n",
       "      <td>0.984344</td>\n",
       "      <td>0.050001</td>\n",
       "    </tr>\n",
       "    <tr>\n",
       "      <th>1136</th>\n",
       "      <td>2022-06-13</td>\n",
       "      <td>146.71</td>\n",
       "      <td>147.19</td>\n",
       "      <td>144.19</td>\n",
       "      <td>145.18</td>\n",
       "      <td>1100000.0</td>\n",
       "      <td>-0.0122</td>\n",
       "      <td>1.340199</td>\n",
       "      <td>0.104303</td>\n",
       "    </tr>\n",
       "    <tr>\n",
       "      <th>1137</th>\n",
       "      <td>2022-06-14</td>\n",
       "      <td>144.65</td>\n",
       "      <td>145.58</td>\n",
       "      <td>142.29</td>\n",
       "      <td>143.59</td>\n",
       "      <td>1260000.0</td>\n",
       "      <td>-0.0110</td>\n",
       "      <td>1.696084</td>\n",
       "      <td>0.152647</td>\n",
       "    </tr>\n",
       "    <tr>\n",
       "      <th>1138</th>\n",
       "      <td>2022-06-15</td>\n",
       "      <td>142.73</td>\n",
       "      <td>145.51</td>\n",
       "      <td>142.25</td>\n",
       "      <td>144.61</td>\n",
       "      <td>1290000.0</td>\n",
       "      <td>0.0071</td>\n",
       "      <td>0.805543</td>\n",
       "      <td>0.183467</td>\n",
       "    </tr>\n",
       "  </tbody>\n",
       "</table>\n",
       "</div>"
      ],
      "text/plain": [
       "            Date    Open    High     Low   Close        Vol  Change %  \\\n",
       "1134  2022-06-09  148.69  149.43  147.32  147.80  1040000.0   -0.0077   \n",
       "1135  2022-06-10  147.74  148.51  146.61  146.98   956290.0   -0.0055   \n",
       "1136  2022-06-13  146.71  147.19  144.19  145.18  1100000.0   -0.0122   \n",
       "1137  2022-06-14  144.65  145.58  142.29  143.59  1260000.0   -0.0110   \n",
       "1138  2022-06-15  142.73  145.51  142.25  144.61  1290000.0    0.0071   \n",
       "\n",
       "      M_std_dev_close  M_std_Dev_ATR  \n",
       "1134         0.879451       0.040977  \n",
       "1135         0.984344       0.050001  \n",
       "1136         1.340199       0.104303  \n",
       "1137         1.696084       0.152647  \n",
       "1138         0.805543       0.183467  "
      ]
     },
     "execution_count": 34,
     "metadata": {},
     "output_type": "execute_result"
    }
   ],
   "source": [
    "df.tail()"
   ]
  },
  {
   "cell_type": "code",
   "execution_count": 53,
   "id": "87749149-7f48-4a8f-bfc5-f6b49101e17e",
   "metadata": {},
   "outputs": [
    {
     "data": {
      "image/png": "[encoded data removed]",
      "text/plain": [
       "<Figure size 432x288 with 1 Axes>"
      ]
     },
     "metadata": {
      "needs_background": "light"
     },
     "output_type": "display_data"
    }
   ],
   "source": [
    "#Graph shows ATR and Moving std dev\n",
    "fig, ax = plt.subplots()\n",
    "plt.plot(ATR)\n",
    "plt.plot(df[\"M_std_dev_close\"], alpha=1)\n",
    "plt.show()"
   ]
  },
  {
   "cell_type": "code",
   "execution_count": null,
   "id": "bbf313f9-8670-42f5-bfcc-8b13102b10bb",
   "metadata": {},
   "outputs": [],
   "source": []
  }
 ],
 "metadata": {
  "kernelspec": {
   "display_name": "Python 3 (ipykernel)",
   "language": "python",
   "name": "python3"
  },
  "language_info": {
   "codemirror_mode": {
    "name": "ipython",
    "version": 3
   },
   "file_extension": ".py",
   "mimetype": "text/x-python",
   "name": "python",
   "nbconvert_exporter": "python",
   "pygments_lexer": "ipython3",
   "version": "3.9.7"
  }
 },
 "nbformat": 4,
 "nbformat_minor": 5
}
